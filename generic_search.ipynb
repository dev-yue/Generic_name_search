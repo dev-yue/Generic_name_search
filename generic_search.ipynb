{
 "cells": [
  {
   "cell_type": "code",
   "execution_count": 2,
   "metadata": {},
   "outputs": [],
   "source": [
    "# import\n",
    "from langchain.embeddings.sentence_transformer import SentenceTransformerEmbeddings\n",
    "from langchain.vectorstores import Chroma"
   ]
  },
  {
   "cell_type": "code",
   "execution_count": 3,
   "metadata": {},
   "outputs": [
    {
     "name": "stdout",
     "output_type": "stream",
     "text": [
      "JSON data has been formatted and saved to './results/formatted_generic_name_count.json'.\n"
     ]
    }
   ],
   "source": [
    "from jq_mimic import JSONLoader\n",
    "import json\n",
    "from pathlib import Path\n",
    "from pprint import pprint\n",
    "\n",
    "file_path='./results/generic_name_count.json'\n",
    "\n",
    "with open(file_path, 'r') as file:\n",
    "    lines = file.readlines()\n",
    "    \n",
    "parsed_data = [json.loads(line) for line in lines]\n",
    "\n",
    "# Write the parsed data to a new JSON file\n",
    "output_file_path = './results/formatted_generic_name_count.json'  # Name of the output file\n",
    "with open(output_file_path, 'w') as file:\n",
    "    json.dump(parsed_data, file, indent=4)\n",
    "\n",
    "print(f\"JSON data has been formatted and saved to '{output_file_path}'.\")\n",
    "\n",
    "data = json.loads(Path(output_file_path).read_text())"
   ]
  },
  {
   "cell_type": "code",
   "execution_count": 4,
   "metadata": {},
   "outputs": [],
   "source": [
    "# Define the metadata extraction function.\n",
    "def metadata_func(record, metadata):\n",
    "    metadata[\"count\"] = str(record.get(\"count\"))\n",
    "    return metadata\n",
    "\n",
    "loader = JSONLoader(\n",
    "    file_path=output_file_path,\n",
    "    content_key=\"term\",\n",
    "    metadata_func=metadata_func\n",
    ")\n",
    "docs = loader.load()"
   ]
  },
  {
   "cell_type": "code",
   "execution_count": 6,
   "metadata": {},
   "outputs": [],
   "source": [
    "from langchain.embeddings.openai import OpenAIEmbeddings\n",
    "embedding = OpenAIEmbeddings()\n",
    "# Vectorstores\n",
    "from langchain.vectorstores import Chroma\n",
    "persist_directory = 'vector_db'\n",
    "# !rm -rf ./docs/chroma  # remove old database files if any\n",
    "vectordb = Chroma.from_documents(\n",
    "documents=docs,\n",
    "embedding=embedding,\n",
    "persist_directory=persist_directory\n",
    ")\n",
    "vectordb.persist()"
   ]
  },
  {
   "cell_type": "code",
   "execution_count": 23,
   "metadata": {},
   "outputs": [
    {
     "name": "stdout",
     "output_type": "stream",
     "text": [
      "{'VIDEO COLONOSCOPE': '2067', 'COLONOVIDEOSCOPE': '9174', 'GASTROINTESTINAL VIDEOSCOPE': '9826', 'DUODENOVIDEOSCOPE': '6142', 'HDVIDEO COLONOSCOPE 3.8C 13.2T 1700L FWJ': '1186', 'VIDEO COLONOSCOPE 3.8C 2.8C 13.2T FWJ': '1064', 'VIDEO DUODENOSCOPE': '2338', 'ULTRASOUND GASTROVIDEOSCOPE': '3162', 'BRONCHOVIDEOSCOPE': '4768', 'ENDOSCOPIC INSTRUMENT': '6680', 'VIDEO COLONOCOPE - I10 STANDARD': '4304', 'FLEX DEFLECTABLE VIDEOSCOPE': '3588', 'VIDEO GASTROSCOPE - I10 STANDARD': '3462', 'LINEAR CUTTERS - ENDOSCOPIC': '2045', 'ENDOSCOPE AND/OR ACCESSORIES': '4339', 'ENDOSCOPIC STAPLER': '1429', 'HD VIDEO GASTROSCOPE 2.8C 9.8T 1050L': '1391', 'ARTHROSCOPE': '6818', 'ENDOSCOPIC MULTIPLE CLIP APPLIER': '1884', 'ENDOSCOPIC LINEAR CUTTER': '1149'}\n"
     ]
    }
   ],
   "source": [
    "query = \"colonovideoscope\"\n",
    "retrieved_docs = vectordb.similarity_search_with_score(query, k=20)\n",
    "\n",
    "import ast\n",
    "import re\n",
    "\n",
    "# Transforming into the desired dictionary format\n",
    "issue_dict = {}\n",
    "for doc in retrieved_docs:\n",
    "    content = doc[0].page_content\n",
    "    count = doc[0].metadata['count']\n",
    "    issue_dict[content] = count\n",
    "\n",
    "# Print the dictionary\n",
    "print(issue_dict)"
   ]
  },
  {
   "cell_type": "code",
   "execution_count": null,
   "metadata": {},
   "outputs": [],
   "source": []
  }
 ],
 "metadata": {
  "kernelspec": {
   "display_name": "Python 3",
   "language": "python",
   "name": "python3"
  },
  "language_info": {
   "codemirror_mode": {
    "name": "ipython",
    "version": 3
   },
   "file_extension": ".py",
   "mimetype": "text/x-python",
   "name": "python",
   "nbconvert_exporter": "python",
   "pygments_lexer": "ipython3",
   "version": "3.11.5"
  }
 },
 "nbformat": 4,
 "nbformat_minor": 2
}
